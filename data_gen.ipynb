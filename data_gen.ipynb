{
 "cells": [
  {
   "cell_type": "code",
   "execution_count": 2,
   "metadata": {
    "pycharm": {
     "name": "#%%\n"
    }
   },
   "outputs": [],
   "source": [
    "import os\n",
    "import pandas as pd\n",
    "import numpy as np\n",
    "from IPython.display import display\n",
    "\n",
    "from sklearn.metrics import f1_score, accuracy_score, precision_score, recall_score\n",
    "from sklearn.preprocessing import StandardScaler\n",
    "from src.dataset import MakeNIERDataset\n",
    "from src.utils import load_data, check_array, plot_pca_explained_variances, show_obj_struct\n",
    "# from dataset_maker import db_to_pkl, preprocessing, region_flatten_cwdb, load_data, check_array, plot_pca_explained_variances, show_obj_struct, MakeNIERDataset, NIERDataset\n",
    "\n",
    "from sklearn.decomposition import PCA\n",
    "\n",
    "from imblearn.over_sampling import RandomOverSampler\n",
    "from imblearn.under_sampling import RandomUnderSampler\n",
    "from imblearn.over_sampling import SMOTENC\n",
    "from imblearn.over_sampling import SMOTE\n",
    "\n",
    "import time\n",
    "import matplotlib.pyplot as plt\n",
    "\n",
    "from torch.utils.data import Dataset, DataLoader\n",
    "import torch\n",
    "\n",
    "seed = 999\n",
    "pd.set_option('display.max_rows', 100)"
   ]
  },
  {
   "cell_type": "code",
   "execution_count": 3,
   "metadata": {},
   "outputs": [],
   "source": [
    "from tqdm import tqdm"
   ]
  },
  {
   "cell_type": "code",
   "execution_count": 5,
   "metadata": {},
   "outputs": [
    {
     "name": "stdout",
     "output_type": "stream",
     "text": [
      "R4_62 is processing...\n"
     ]
    },
    {
     "name": "stderr",
     "output_type": "stream",
     "text": [
      "  0%|          | 0/4 [00:00<?, ?it/s]"
     ]
    },
    {
     "name": "stdout",
     "output_type": "stream",
     "text": [
      "rm_region_list:  []\n"
     ]
    },
    {
     "name": "stderr",
     "output_type": "stream",
     "text": [
      "/home/pink/dust/NIER_v5/src/dataset/preprocessing.py:244: SettingWithCopyWarning: \n",
      "A value is trying to be set on a copy of a slice from a DataFrame\n",
      "\n",
      "See the caveats in the documentation: https://pandas.pydata.org/pandas-docs/stable/user_guide/indexing.html#returning-a-view-versus-a-copy\n",
      "  obs_df[\"WEEK_NO_CN\"].loc[obs_df[\"WEEK_NO_CN\"] >= 6] = 1\n",
      "/home/pink/dust/NIER_v5/src/dataset/preprocessing.py:246: SettingWithCopyWarning: \n",
      "A value is trying to be set on a copy of a slice from a DataFrame\n",
      "\n",
      "See the caveats in the documentation: https://pandas.pydata.org/pandas-docs/stable/user_guide/indexing.html#returning-a-view-versus-a-copy\n",
      "  obs_df[\"WEEK_NO_KR\"].loc[obs_df[\"WEEK_NO_KR\"] >= 6] = 1\n"
     ]
    },
    {
     "name": "stdout",
     "output_type": "stream",
     "text": [
      "All OBS Record Correct\n",
      "All FNL Record Correct\n",
      "All WRF Record Correct\n",
      "All CMAQ Record Correct\n"
     ]
    },
    {
     "name": "stderr",
     "output_type": "stream",
     "text": [
      " 25%|██▌       | 1/4 [03:29<10:28, 209.65s/it]"
     ]
    },
    {
     "name": "stdout",
     "output_type": "stream",
     "text": [
      "rm_region_list:  ['R4_77']\n"
     ]
    },
    {
     "name": "stderr",
     "output_type": "stream",
     "text": [
      "/home/pink/dust/NIER_v5/src/dataset/preprocessing.py:244: SettingWithCopyWarning: \n",
      "A value is trying to be set on a copy of a slice from a DataFrame\n",
      "\n",
      "See the caveats in the documentation: https://pandas.pydata.org/pandas-docs/stable/user_guide/indexing.html#returning-a-view-versus-a-copy\n",
      "  obs_df[\"WEEK_NO_CN\"].loc[obs_df[\"WEEK_NO_CN\"] >= 6] = 1\n",
      "/home/pink/dust/NIER_v5/src/dataset/preprocessing.py:246: SettingWithCopyWarning: \n",
      "A value is trying to be set on a copy of a slice from a DataFrame\n",
      "\n",
      "See the caveats in the documentation: https://pandas.pydata.org/pandas-docs/stable/user_guide/indexing.html#returning-a-view-versus-a-copy\n",
      "  obs_df[\"WEEK_NO_KR\"].loc[obs_df[\"WEEK_NO_KR\"] >= 6] = 1\n"
     ]
    },
    {
     "name": "stdout",
     "output_type": "stream",
     "text": [
      "All OBS Record Correct\n",
      "All FNL Record Correct\n",
      "All WRF Record Correct\n",
      "All CMAQ Record Correct\n",
      "remove region:  R4_77\n",
      "remove region:  R4_77\n",
      "remove region:  R4_77\n",
      "remove region:  R4_77\n",
      "remove region:  R4_77\n",
      "numeric - remove region:  R4_77\n"
     ]
    },
    {
     "name": "stderr",
     "output_type": "stream",
     "text": [
      " 50%|█████     | 2/4 [06:27<06:21, 190.94s/it]"
     ]
    },
    {
     "name": "stdout",
     "output_type": "stream",
     "text": [
      "rm_region_list:  ['R4_77', 'R4_74', 'R4_76', 'R4_75']\n"
     ]
    },
    {
     "name": "stderr",
     "output_type": "stream",
     "text": [
      "/home/pink/dust/NIER_v5/src/dataset/preprocessing.py:244: SettingWithCopyWarning: \n",
      "A value is trying to be set on a copy of a slice from a DataFrame\n",
      "\n",
      "See the caveats in the documentation: https://pandas.pydata.org/pandas-docs/stable/user_guide/indexing.html#returning-a-view-versus-a-copy\n",
      "  obs_df[\"WEEK_NO_CN\"].loc[obs_df[\"WEEK_NO_CN\"] >= 6] = 1\n",
      "/home/pink/dust/NIER_v5/src/dataset/preprocessing.py:246: SettingWithCopyWarning: \n",
      "A value is trying to be set on a copy of a slice from a DataFrame\n",
      "\n",
      "See the caveats in the documentation: https://pandas.pydata.org/pandas-docs/stable/user_guide/indexing.html#returning-a-view-versus-a-copy\n",
      "  obs_df[\"WEEK_NO_KR\"].loc[obs_df[\"WEEK_NO_KR\"] >= 6] = 1\n"
     ]
    },
    {
     "name": "stdout",
     "output_type": "stream",
     "text": [
      "All OBS Record Correct\n",
      "All FNL Record Correct\n",
      "All WRF Record Correct\n",
      "All CMAQ Record Correct\n",
      "remove region:  R4_74\n",
      "remove region:  R4_75\n",
      "remove region:  R4_76\n",
      "remove region:  R4_77\n",
      "remove region:  R4_74\n",
      "remove region:  R4_75\n",
      "remove region:  R4_76\n",
      "remove region:  R4_77\n",
      "remove region:  R4_74\n",
      "remove region:  R4_75\n",
      "remove region:  R4_76\n",
      "remove region:  R4_77\n",
      "remove region:  R4_74\n",
      "remove region:  R4_75\n",
      "remove region:  R4_76\n",
      "remove region:  R4_77\n",
      "remove region:  R4_74\n",
      "remove region:  R4_75\n",
      "remove region:  R4_76\n",
      "remove region:  R4_77\n",
      "numeric - remove region:  R4_74\n",
      "numeric - remove region:  R4_75\n",
      "numeric - remove region:  R4_76\n",
      "numeric - remove region:  R4_77\n"
     ]
    },
    {
     "name": "stderr",
     "output_type": "stream",
     "text": [
      " 75%|███████▌  | 3/4 [09:22<03:03, 183.55s/it]"
     ]
    },
    {
     "name": "stdout",
     "output_type": "stream",
     "text": [
      "rm_region_list:  ['R4_77', 'R4_74', 'R4_76', 'R4_75', 'R4_64']\n"
     ]
    },
    {
     "name": "stderr",
     "output_type": "stream",
     "text": [
      "/home/pink/dust/NIER_v5/src/dataset/preprocessing.py:244: SettingWithCopyWarning: \n",
      "A value is trying to be set on a copy of a slice from a DataFrame\n",
      "\n",
      "See the caveats in the documentation: https://pandas.pydata.org/pandas-docs/stable/user_guide/indexing.html#returning-a-view-versus-a-copy\n",
      "  obs_df[\"WEEK_NO_CN\"].loc[obs_df[\"WEEK_NO_CN\"] >= 6] = 1\n",
      "/home/pink/dust/NIER_v5/src/dataset/preprocessing.py:246: SettingWithCopyWarning: \n",
      "A value is trying to be set on a copy of a slice from a DataFrame\n",
      "\n",
      "See the caveats in the documentation: https://pandas.pydata.org/pandas-docs/stable/user_guide/indexing.html#returning-a-view-versus-a-copy\n",
      "  obs_df[\"WEEK_NO_KR\"].loc[obs_df[\"WEEK_NO_KR\"] >= 6] = 1\n"
     ]
    },
    {
     "name": "stdout",
     "output_type": "stream",
     "text": [
      "All OBS Record Correct\n",
      "All FNL Record Correct\n",
      "All WRF Record Correct\n",
      "All CMAQ Record Correct\n",
      "remove region:  R4_64\n",
      "remove region:  R4_74\n",
      "remove region:  R4_75\n",
      "remove region:  R4_76\n",
      "remove region:  R4_77\n",
      "remove region:  R4_64\n",
      "remove region:  R4_74\n",
      "remove region:  R4_75\n",
      "remove region:  R4_76\n",
      "remove region:  R4_77\n",
      "remove region:  R4_64\n",
      "remove region:  R4_74\n",
      "remove region:  R4_75\n",
      "remove region:  R4_76\n",
      "remove region:  R4_77\n",
      "remove region:  R4_64\n",
      "remove region:  R4_74\n",
      "remove region:  R4_75\n",
      "remove region:  R4_76\n",
      "remove region:  R4_77\n",
      "remove region:  R4_64\n",
      "remove region:  R4_74\n",
      "remove region:  R4_75\n",
      "remove region:  R4_76\n",
      "remove region:  R4_77\n",
      "numeric - remove region:  R4_64\n",
      "numeric - remove region:  R4_74\n",
      "numeric - remove region:  R4_75\n",
      "numeric - remove region:  R4_76\n",
      "numeric - remove region:  R4_77\n"
     ]
    },
    {
     "name": "stderr",
     "output_type": "stream",
     "text": [
      "100%|██████████| 4/4 [12:26<00:00, 186.57s/it]\n"
     ]
    },
    {
     "name": "stdout",
     "output_type": "stream",
     "text": [
      "R4_64 is processing...\n"
     ]
    },
    {
     "name": "stderr",
     "output_type": "stream",
     "text": [
      "  0%|          | 0/4 [00:00<?, ?it/s]"
     ]
    },
    {
     "name": "stdout",
     "output_type": "stream",
     "text": [
      "rm_region_list:  []\n"
     ]
    },
    {
     "name": "stderr",
     "output_type": "stream",
     "text": [
      "/home/pink/dust/NIER_v5/src/dataset/preprocessing.py:244: SettingWithCopyWarning: \n",
      "A value is trying to be set on a copy of a slice from a DataFrame\n",
      "\n",
      "See the caveats in the documentation: https://pandas.pydata.org/pandas-docs/stable/user_guide/indexing.html#returning-a-view-versus-a-copy\n",
      "  obs_df[\"WEEK_NO_CN\"].loc[obs_df[\"WEEK_NO_CN\"] >= 6] = 1\n",
      "/home/pink/dust/NIER_v5/src/dataset/preprocessing.py:246: SettingWithCopyWarning: \n",
      "A value is trying to be set on a copy of a slice from a DataFrame\n",
      "\n",
      "See the caveats in the documentation: https://pandas.pydata.org/pandas-docs/stable/user_guide/indexing.html#returning-a-view-versus-a-copy\n",
      "  obs_df[\"WEEK_NO_KR\"].loc[obs_df[\"WEEK_NO_KR\"] >= 6] = 1\n"
     ]
    },
    {
     "name": "stdout",
     "output_type": "stream",
     "text": [
      "All OBS Record Correct\n",
      "All FNL Record Correct\n",
      "All WRF Record Correct\n",
      "All CMAQ Record Correct\n"
     ]
    },
    {
     "name": "stderr",
     "output_type": "stream",
     "text": [
      " 25%|██▌       | 1/4 [03:10<09:30, 190.24s/it]"
     ]
    },
    {
     "name": "stdout",
     "output_type": "stream",
     "text": [
      "rm_region_list:  ['R4_77']\n"
     ]
    },
    {
     "name": "stderr",
     "output_type": "stream",
     "text": [
      "/home/pink/dust/NIER_v5/src/dataset/preprocessing.py:244: SettingWithCopyWarning: \n",
      "A value is trying to be set on a copy of a slice from a DataFrame\n",
      "\n",
      "See the caveats in the documentation: https://pandas.pydata.org/pandas-docs/stable/user_guide/indexing.html#returning-a-view-versus-a-copy\n",
      "  obs_df[\"WEEK_NO_CN\"].loc[obs_df[\"WEEK_NO_CN\"] >= 6] = 1\n",
      "/home/pink/dust/NIER_v5/src/dataset/preprocessing.py:246: SettingWithCopyWarning: \n",
      "A value is trying to be set on a copy of a slice from a DataFrame\n",
      "\n",
      "See the caveats in the documentation: https://pandas.pydata.org/pandas-docs/stable/user_guide/indexing.html#returning-a-view-versus-a-copy\n",
      "  obs_df[\"WEEK_NO_KR\"].loc[obs_df[\"WEEK_NO_KR\"] >= 6] = 1\n"
     ]
    },
    {
     "name": "stdout",
     "output_type": "stream",
     "text": [
      "All OBS Record Correct\n",
      "All FNL Record Correct\n",
      "All WRF Record Correct\n",
      "All CMAQ Record Correct\n",
      "remove region:  R4_77\n",
      "remove region:  R4_77\n",
      "remove region:  R4_77\n",
      "remove region:  R4_77\n",
      "remove region:  R4_77\n",
      "numeric - remove region:  R4_77\n"
     ]
    },
    {
     "name": "stderr",
     "output_type": "stream",
     "text": [
      " 50%|█████     | 2/4 [06:03<06:00, 180.34s/it]"
     ]
    },
    {
     "name": "stdout",
     "output_type": "stream",
     "text": [
      "rm_region_list:  ['R4_69', 'R4_77', 'R4_72']\n"
     ]
    },
    {
     "name": "stderr",
     "output_type": "stream",
     "text": [
      "/home/pink/dust/NIER_v5/src/dataset/preprocessing.py:244: SettingWithCopyWarning: \n",
      "A value is trying to be set on a copy of a slice from a DataFrame\n",
      "\n",
      "See the caveats in the documentation: https://pandas.pydata.org/pandas-docs/stable/user_guide/indexing.html#returning-a-view-versus-a-copy\n",
      "  obs_df[\"WEEK_NO_CN\"].loc[obs_df[\"WEEK_NO_CN\"] >= 6] = 1\n",
      "/home/pink/dust/NIER_v5/src/dataset/preprocessing.py:246: SettingWithCopyWarning: \n",
      "A value is trying to be set on a copy of a slice from a DataFrame\n",
      "\n",
      "See the caveats in the documentation: https://pandas.pydata.org/pandas-docs/stable/user_guide/indexing.html#returning-a-view-versus-a-copy\n",
      "  obs_df[\"WEEK_NO_KR\"].loc[obs_df[\"WEEK_NO_KR\"] >= 6] = 1\n"
     ]
    },
    {
     "name": "stdout",
     "output_type": "stream",
     "text": [
      "All OBS Record Correct\n",
      "All FNL Record Correct\n",
      "All WRF Record Correct\n",
      "All CMAQ Record Correct\n",
      "remove region:  R4_69\n",
      "remove region:  R4_72\n",
      "remove region:  R4_77\n",
      "remove region:  R4_69\n",
      "remove region:  R4_72\n",
      "remove region:  R4_77\n",
      "remove region:  R4_69\n",
      "remove region:  R4_72\n",
      "remove region:  R4_77\n",
      "remove region:  R4_69\n",
      "remove region:  R4_72\n",
      "remove region:  R4_77\n",
      "remove region:  R4_69\n",
      "remove region:  R4_72\n",
      "remove region:  R4_77\n",
      "numeric - remove region:  R4_69\n",
      "numeric - remove region:  R4_72\n",
      "numeric - remove region:  R4_77\n"
     ]
    },
    {
     "name": "stderr",
     "output_type": "stream",
     "text": [
      " 75%|███████▌  | 3/4 [09:02<02:59, 179.56s/it]"
     ]
    },
    {
     "name": "stdout",
     "output_type": "stream",
     "text": [
      "rm_region_list:  ['R4_69', 'R4_77', 'R4_73', 'R4_72']\n"
     ]
    },
    {
     "name": "stderr",
     "output_type": "stream",
     "text": [
      "/home/pink/dust/NIER_v5/src/dataset/preprocessing.py:244: SettingWithCopyWarning: \n",
      "A value is trying to be set on a copy of a slice from a DataFrame\n",
      "\n",
      "See the caveats in the documentation: https://pandas.pydata.org/pandas-docs/stable/user_guide/indexing.html#returning-a-view-versus-a-copy\n",
      "  obs_df[\"WEEK_NO_CN\"].loc[obs_df[\"WEEK_NO_CN\"] >= 6] = 1\n",
      "/home/pink/dust/NIER_v5/src/dataset/preprocessing.py:246: SettingWithCopyWarning: \n",
      "A value is trying to be set on a copy of a slice from a DataFrame\n",
      "\n",
      "See the caveats in the documentation: https://pandas.pydata.org/pandas-docs/stable/user_guide/indexing.html#returning-a-view-versus-a-copy\n",
      "  obs_df[\"WEEK_NO_KR\"].loc[obs_df[\"WEEK_NO_KR\"] >= 6] = 1\n"
     ]
    },
    {
     "name": "stdout",
     "output_type": "stream",
     "text": [
      "All OBS Record Correct\n",
      "All FNL Record Correct\n",
      "All WRF Record Correct\n",
      "All CMAQ Record Correct\n",
      "remove region:  R4_69\n",
      "remove region:  R4_72\n",
      "remove region:  R4_73\n",
      "remove region:  R4_77\n",
      "remove region:  R4_69\n",
      "remove region:  R4_72\n",
      "remove region:  R4_73\n",
      "remove region:  R4_77\n",
      "remove region:  R4_69\n",
      "remove region:  R4_72\n",
      "remove region:  R4_73\n",
      "remove region:  R4_77\n",
      "remove region:  R4_69\n",
      "remove region:  R4_72\n",
      "remove region:  R4_73\n",
      "remove region:  R4_77\n",
      "remove region:  R4_69\n",
      "remove region:  R4_72\n",
      "remove region:  R4_73\n",
      "remove region:  R4_77\n",
      "numeric - remove region:  R4_69\n",
      "numeric - remove region:  R4_72\n",
      "numeric - remove region:  R4_73\n",
      "numeric - remove region:  R4_77\n"
     ]
    },
    {
     "name": "stderr",
     "output_type": "stream",
     "text": [
      "100%|██████████| 4/4 [12:03<00:00, 180.99s/it]\n"
     ]
    },
    {
     "name": "stdout",
     "output_type": "stream",
     "text": [
      "R4_67 is processing...\n"
     ]
    },
    {
     "name": "stderr",
     "output_type": "stream",
     "text": [
      "  0%|          | 0/4 [00:00<?, ?it/s]"
     ]
    },
    {
     "name": "stdout",
     "output_type": "stream",
     "text": [
      "rm_region_list:  []\n"
     ]
    },
    {
     "name": "stderr",
     "output_type": "stream",
     "text": [
      "/home/pink/dust/NIER_v5/src/dataset/preprocessing.py:244: SettingWithCopyWarning: \n",
      "A value is trying to be set on a copy of a slice from a DataFrame\n",
      "\n",
      "See the caveats in the documentation: https://pandas.pydata.org/pandas-docs/stable/user_guide/indexing.html#returning-a-view-versus-a-copy\n",
      "  obs_df[\"WEEK_NO_CN\"].loc[obs_df[\"WEEK_NO_CN\"] >= 6] = 1\n",
      "/home/pink/dust/NIER_v5/src/dataset/preprocessing.py:246: SettingWithCopyWarning: \n",
      "A value is trying to be set on a copy of a slice from a DataFrame\n",
      "\n",
      "See the caveats in the documentation: https://pandas.pydata.org/pandas-docs/stable/user_guide/indexing.html#returning-a-view-versus-a-copy\n",
      "  obs_df[\"WEEK_NO_KR\"].loc[obs_df[\"WEEK_NO_KR\"] >= 6] = 1\n"
     ]
    },
    {
     "name": "stdout",
     "output_type": "stream",
     "text": [
      "All OBS Record Correct\n",
      "All FNL Record Correct\n",
      "All WRF Record Correct\n",
      "All CMAQ Record Correct\n"
     ]
    },
    {
     "name": "stderr",
     "output_type": "stream",
     "text": [
      " 25%|██▌       | 1/4 [03:14<09:42, 194.14s/it]"
     ]
    },
    {
     "name": "stdout",
     "output_type": "stream",
     "text": [
      "rm_region_list:  ['R4_77']\n"
     ]
    },
    {
     "name": "stderr",
     "output_type": "stream",
     "text": [
      "/home/pink/dust/NIER_v5/src/dataset/preprocessing.py:244: SettingWithCopyWarning: \n",
      "A value is trying to be set on a copy of a slice from a DataFrame\n",
      "\n",
      "See the caveats in the documentation: https://pandas.pydata.org/pandas-docs/stable/user_guide/indexing.html#returning-a-view-versus-a-copy\n",
      "  obs_df[\"WEEK_NO_CN\"].loc[obs_df[\"WEEK_NO_CN\"] >= 6] = 1\n",
      "/home/pink/dust/NIER_v5/src/dataset/preprocessing.py:246: SettingWithCopyWarning: \n",
      "A value is trying to be set on a copy of a slice from a DataFrame\n",
      "\n",
      "See the caveats in the documentation: https://pandas.pydata.org/pandas-docs/stable/user_guide/indexing.html#returning-a-view-versus-a-copy\n",
      "  obs_df[\"WEEK_NO_KR\"].loc[obs_df[\"WEEK_NO_KR\"] >= 6] = 1\n"
     ]
    },
    {
     "name": "stdout",
     "output_type": "stream",
     "text": [
      "All OBS Record Correct\n",
      "All FNL Record Correct\n",
      "All WRF Record Correct\n",
      "All CMAQ Record Correct\n",
      "remove region:  R4_77\n",
      "remove region:  R4_77\n",
      "remove region:  R4_77\n",
      "remove region:  R4_77\n",
      "remove region:  R4_77\n",
      "numeric - remove region:  R4_77\n"
     ]
    },
    {
     "name": "stderr",
     "output_type": "stream",
     "text": [
      " 50%|█████     | 2/4 [06:10<06:06, 183.43s/it]"
     ]
    },
    {
     "name": "stdout",
     "output_type": "stream",
     "text": [
      "rm_region_list:  ['R4_77', 'R4_74', 'R4_76', 'R4_75']\n"
     ]
    },
    {
     "name": "stderr",
     "output_type": "stream",
     "text": [
      "/home/pink/dust/NIER_v5/src/dataset/preprocessing.py:244: SettingWithCopyWarning: \n",
      "A value is trying to be set on a copy of a slice from a DataFrame\n",
      "\n",
      "See the caveats in the documentation: https://pandas.pydata.org/pandas-docs/stable/user_guide/indexing.html#returning-a-view-versus-a-copy\n",
      "  obs_df[\"WEEK_NO_CN\"].loc[obs_df[\"WEEK_NO_CN\"] >= 6] = 1\n",
      "/home/pink/dust/NIER_v5/src/dataset/preprocessing.py:246: SettingWithCopyWarning: \n",
      "A value is trying to be set on a copy of a slice from a DataFrame\n",
      "\n",
      "See the caveats in the documentation: https://pandas.pydata.org/pandas-docs/stable/user_guide/indexing.html#returning-a-view-versus-a-copy\n",
      "  obs_df[\"WEEK_NO_KR\"].loc[obs_df[\"WEEK_NO_KR\"] >= 6] = 1\n"
     ]
    },
    {
     "name": "stdout",
     "output_type": "stream",
     "text": [
      "All OBS Record Correct\n",
      "All FNL Record Correct\n",
      "All WRF Record Correct\n",
      "All CMAQ Record Correct\n",
      "remove region:  R4_74\n",
      "remove region:  R4_75\n",
      "remove region:  R4_76\n",
      "remove region:  R4_77\n",
      "remove region:  R4_74\n",
      "remove region:  R4_75\n",
      "remove region:  R4_76\n",
      "remove region:  R4_77\n",
      "remove region:  R4_74\n",
      "remove region:  R4_75\n",
      "remove region:  R4_76\n",
      "remove region:  R4_77\n",
      "remove region:  R4_74\n",
      "remove region:  R4_75\n",
      "remove region:  R4_76\n",
      "remove region:  R4_77\n",
      "remove region:  R4_74\n",
      "remove region:  R4_75\n",
      "remove region:  R4_76\n",
      "remove region:  R4_77\n",
      "numeric - remove region:  R4_74\n",
      "numeric - remove region:  R4_75\n",
      "numeric - remove region:  R4_76\n",
      "numeric - remove region:  R4_77\n"
     ]
    },
    {
     "name": "stderr",
     "output_type": "stream",
     "text": [
      " 75%|███████▌  | 3/4 [09:10<03:02, 182.09s/it]"
     ]
    },
    {
     "name": "stdout",
     "output_type": "stream",
     "text": [
      "rm_region_list:  ['R4_77', 'R4_74', 'R4_76', 'R4_75', 'R4_64']\n"
     ]
    },
    {
     "name": "stderr",
     "output_type": "stream",
     "text": [
      "/home/pink/dust/NIER_v5/src/dataset/preprocessing.py:244: SettingWithCopyWarning: \n",
      "A value is trying to be set on a copy of a slice from a DataFrame\n",
      "\n",
      "See the caveats in the documentation: https://pandas.pydata.org/pandas-docs/stable/user_guide/indexing.html#returning-a-view-versus-a-copy\n",
      "  obs_df[\"WEEK_NO_CN\"].loc[obs_df[\"WEEK_NO_CN\"] >= 6] = 1\n",
      "/home/pink/dust/NIER_v5/src/dataset/preprocessing.py:246: SettingWithCopyWarning: \n",
      "A value is trying to be set on a copy of a slice from a DataFrame\n",
      "\n",
      "See the caveats in the documentation: https://pandas.pydata.org/pandas-docs/stable/user_guide/indexing.html#returning-a-view-versus-a-copy\n",
      "  obs_df[\"WEEK_NO_KR\"].loc[obs_df[\"WEEK_NO_KR\"] >= 6] = 1\n"
     ]
    },
    {
     "name": "stdout",
     "output_type": "stream",
     "text": [
      "All OBS Record Correct\n",
      "All FNL Record Correct\n",
      "All WRF Record Correct\n",
      "All CMAQ Record Correct\n",
      "remove region:  R4_64\n",
      "remove region:  R4_74\n",
      "remove region:  R4_75\n",
      "remove region:  R4_76\n",
      "remove region:  R4_77\n",
      "remove region:  R4_64\n",
      "remove region:  R4_74\n",
      "remove region:  R4_75\n",
      "remove region:  R4_76\n",
      "remove region:  R4_77\n",
      "remove region:  R4_64\n",
      "remove region:  R4_74\n",
      "remove region:  R4_75\n",
      "remove region:  R4_76\n",
      "remove region:  R4_77\n",
      "remove region:  R4_64\n",
      "remove region:  R4_74\n",
      "remove region:  R4_75\n",
      "remove region:  R4_76\n",
      "remove region:  R4_77\n",
      "remove region:  R4_64\n",
      "remove region:  R4_74\n",
      "remove region:  R4_75\n",
      "remove region:  R4_76\n",
      "remove region:  R4_77\n",
      "numeric - remove region:  R4_64\n",
      "numeric - remove region:  R4_74\n",
      "numeric - remove region:  R4_75\n",
      "numeric - remove region:  R4_76\n",
      "numeric - remove region:  R4_77\n"
     ]
    },
    {
     "name": "stderr",
     "output_type": "stream",
     "text": [
      "100%|██████████| 4/4 [11:57<00:00, 179.34s/it]\n"
     ]
    },
    {
     "name": "stdout",
     "output_type": "stream",
     "text": [
      "R4_69 is processing...\n"
     ]
    },
    {
     "name": "stderr",
     "output_type": "stream",
     "text": [
      "  0%|          | 0/4 [00:00<?, ?it/s]"
     ]
    },
    {
     "name": "stdout",
     "output_type": "stream",
     "text": [
      "rm_region_list:  []\n"
     ]
    },
    {
     "name": "stderr",
     "output_type": "stream",
     "text": [
      "/home/pink/dust/NIER_v5/src/dataset/preprocessing.py:244: SettingWithCopyWarning: \n",
      "A value is trying to be set on a copy of a slice from a DataFrame\n",
      "\n",
      "See the caveats in the documentation: https://pandas.pydata.org/pandas-docs/stable/user_guide/indexing.html#returning-a-view-versus-a-copy\n",
      "  obs_df[\"WEEK_NO_CN\"].loc[obs_df[\"WEEK_NO_CN\"] >= 6] = 1\n",
      "/home/pink/dust/NIER_v5/src/dataset/preprocessing.py:246: SettingWithCopyWarning: \n",
      "A value is trying to be set on a copy of a slice from a DataFrame\n",
      "\n",
      "See the caveats in the documentation: https://pandas.pydata.org/pandas-docs/stable/user_guide/indexing.html#returning-a-view-versus-a-copy\n",
      "  obs_df[\"WEEK_NO_KR\"].loc[obs_df[\"WEEK_NO_KR\"] >= 6] = 1\n"
     ]
    },
    {
     "name": "stdout",
     "output_type": "stream",
     "text": [
      "All OBS Record Correct\n",
      "All FNL Record Correct\n",
      "All WRF Record Correct\n",
      "All CMAQ Record Correct\n"
     ]
    },
    {
     "name": "stderr",
     "output_type": "stream",
     "text": [
      " 25%|██▌       | 1/4 [02:50<08:30, 170.23s/it]"
     ]
    },
    {
     "name": "stdout",
     "output_type": "stream",
     "text": [
      "rm_region_list:  ['R4_77']\n"
     ]
    },
    {
     "name": "stderr",
     "output_type": "stream",
     "text": [
      "/home/pink/dust/NIER_v5/src/dataset/preprocessing.py:244: SettingWithCopyWarning: \n",
      "A value is trying to be set on a copy of a slice from a DataFrame\n",
      "\n",
      "See the caveats in the documentation: https://pandas.pydata.org/pandas-docs/stable/user_guide/indexing.html#returning-a-view-versus-a-copy\n",
      "  obs_df[\"WEEK_NO_CN\"].loc[obs_df[\"WEEK_NO_CN\"] >= 6] = 1\n",
      "/home/pink/dust/NIER_v5/src/dataset/preprocessing.py:246: SettingWithCopyWarning: \n",
      "A value is trying to be set on a copy of a slice from a DataFrame\n",
      "\n",
      "See the caveats in the documentation: https://pandas.pydata.org/pandas-docs/stable/user_guide/indexing.html#returning-a-view-versus-a-copy\n",
      "  obs_df[\"WEEK_NO_KR\"].loc[obs_df[\"WEEK_NO_KR\"] >= 6] = 1\n"
     ]
    },
    {
     "name": "stdout",
     "output_type": "stream",
     "text": [
      "All OBS Record Correct\n",
      "All FNL Record Correct\n",
      "All WRF Record Correct\n",
      "All CMAQ Record Correct\n",
      "remove region:  R4_77\n",
      "remove region:  R4_77\n",
      "remove region:  R4_77\n",
      "remove region:  R4_77\n",
      "remove region:  R4_77\n",
      "numeric - remove region:  R4_77\n"
     ]
    },
    {
     "name": "stderr",
     "output_type": "stream",
     "text": [
      " 50%|█████     | 2/4 [05:47<05:49, 174.54s/it]"
     ]
    },
    {
     "name": "stdout",
     "output_type": "stream",
     "text": [
      "rm_region_list:  ['R4_77', 'R4_64']\n"
     ]
    },
    {
     "name": "stderr",
     "output_type": "stream",
     "text": [
      "/home/pink/dust/NIER_v5/src/dataset/preprocessing.py:244: SettingWithCopyWarning: \n",
      "A value is trying to be set on a copy of a slice from a DataFrame\n",
      "\n",
      "See the caveats in the documentation: https://pandas.pydata.org/pandas-docs/stable/user_guide/indexing.html#returning-a-view-versus-a-copy\n",
      "  obs_df[\"WEEK_NO_CN\"].loc[obs_df[\"WEEK_NO_CN\"] >= 6] = 1\n",
      "/home/pink/dust/NIER_v5/src/dataset/preprocessing.py:246: SettingWithCopyWarning: \n",
      "A value is trying to be set on a copy of a slice from a DataFrame\n",
      "\n",
      "See the caveats in the documentation: https://pandas.pydata.org/pandas-docs/stable/user_guide/indexing.html#returning-a-view-versus-a-copy\n",
      "  obs_df[\"WEEK_NO_KR\"].loc[obs_df[\"WEEK_NO_KR\"] >= 6] = 1\n"
     ]
    },
    {
     "name": "stdout",
     "output_type": "stream",
     "text": [
      "All OBS Record Correct\n",
      "All FNL Record Correct\n",
      "All WRF Record Correct\n",
      "All CMAQ Record Correct\n",
      "remove region:  R4_64\n",
      "remove region:  R4_77\n",
      "remove region:  R4_64\n",
      "remove region:  R4_77\n",
      "remove region:  R4_64\n",
      "remove region:  R4_77\n",
      "remove region:  R4_64\n",
      "remove region:  R4_77\n",
      "remove region:  R4_64\n",
      "remove region:  R4_77\n",
      "numeric - remove region:  R4_64\n",
      "numeric - remove region:  R4_77\n"
     ]
    },
    {
     "name": "stderr",
     "output_type": "stream",
     "text": [
      " 75%|███████▌  | 3/4 [08:40<02:53, 173.71s/it]"
     ]
    },
    {
     "name": "stdout",
     "output_type": "stream",
     "text": [
      "rm_region_list:  ['R4_77', 'R4_74', 'R4_76', 'R4_75', 'R4_64']\n"
     ]
    },
    {
     "name": "stderr",
     "output_type": "stream",
     "text": [
      "/home/pink/dust/NIER_v5/src/dataset/preprocessing.py:244: SettingWithCopyWarning: \n",
      "A value is trying to be set on a copy of a slice from a DataFrame\n",
      "\n",
      "See the caveats in the documentation: https://pandas.pydata.org/pandas-docs/stable/user_guide/indexing.html#returning-a-view-versus-a-copy\n",
      "  obs_df[\"WEEK_NO_CN\"].loc[obs_df[\"WEEK_NO_CN\"] >= 6] = 1\n",
      "/home/pink/dust/NIER_v5/src/dataset/preprocessing.py:246: SettingWithCopyWarning: \n",
      "A value is trying to be set on a copy of a slice from a DataFrame\n",
      "\n",
      "See the caveats in the documentation: https://pandas.pydata.org/pandas-docs/stable/user_guide/indexing.html#returning-a-view-versus-a-copy\n",
      "  obs_df[\"WEEK_NO_KR\"].loc[obs_df[\"WEEK_NO_KR\"] >= 6] = 1\n"
     ]
    },
    {
     "name": "stdout",
     "output_type": "stream",
     "text": [
      "All OBS Record Correct\n",
      "All FNL Record Correct\n",
      "All WRF Record Correct\n",
      "All CMAQ Record Correct\n",
      "remove region:  R4_64\n",
      "remove region:  R4_74\n",
      "remove region:  R4_75\n",
      "remove region:  R4_76\n",
      "remove region:  R4_77\n",
      "remove region:  R4_64\n",
      "remove region:  R4_74\n",
      "remove region:  R4_75\n",
      "remove region:  R4_76\n",
      "remove region:  R4_77\n",
      "remove region:  R4_64\n",
      "remove region:  R4_74\n",
      "remove region:  R4_75\n",
      "remove region:  R4_76\n",
      "remove region:  R4_77\n",
      "remove region:  R4_64\n",
      "remove region:  R4_74\n",
      "remove region:  R4_75\n",
      "remove region:  R4_76\n",
      "remove region:  R4_77\n",
      "remove region:  R4_64\n",
      "remove region:  R4_74\n",
      "remove region:  R4_75\n",
      "remove region:  R4_76\n",
      "remove region:  R4_77\n",
      "numeric - remove region:  R4_64\n",
      "numeric - remove region:  R4_74\n",
      "numeric - remove region:  R4_75\n",
      "numeric - remove region:  R4_76\n",
      "numeric - remove region:  R4_77\n"
     ]
    },
    {
     "name": "stderr",
     "output_type": "stream",
     "text": [
      "100%|██████████| 4/4 [11:26<00:00, 171.74s/it]\n"
     ]
    },
    {
     "name": "stdout",
     "output_type": "stream",
     "text": [
      "R4_71 is processing...\n"
     ]
    },
    {
     "name": "stderr",
     "output_type": "stream",
     "text": [
      "  0%|          | 0/4 [00:00<?, ?it/s]"
     ]
    },
    {
     "name": "stdout",
     "output_type": "stream",
     "text": [
      "rm_region_list:  []\n"
     ]
    },
    {
     "name": "stderr",
     "output_type": "stream",
     "text": [
      "/home/pink/dust/NIER_v5/src/dataset/preprocessing.py:244: SettingWithCopyWarning: \n",
      "A value is trying to be set on a copy of a slice from a DataFrame\n",
      "\n",
      "See the caveats in the documentation: https://pandas.pydata.org/pandas-docs/stable/user_guide/indexing.html#returning-a-view-versus-a-copy\n",
      "  obs_df[\"WEEK_NO_CN\"].loc[obs_df[\"WEEK_NO_CN\"] >= 6] = 1\n",
      "/home/pink/dust/NIER_v5/src/dataset/preprocessing.py:246: SettingWithCopyWarning: \n",
      "A value is trying to be set on a copy of a slice from a DataFrame\n",
      "\n",
      "See the caveats in the documentation: https://pandas.pydata.org/pandas-docs/stable/user_guide/indexing.html#returning-a-view-versus-a-copy\n",
      "  obs_df[\"WEEK_NO_KR\"].loc[obs_df[\"WEEK_NO_KR\"] >= 6] = 1\n"
     ]
    },
    {
     "name": "stdout",
     "output_type": "stream",
     "text": [
      "All OBS Record Correct\n",
      "All FNL Record Correct\n",
      "All WRF Record Correct\n",
      "All CMAQ Record Correct\n"
     ]
    },
    {
     "name": "stderr",
     "output_type": "stream",
     "text": [
      " 25%|██▌       | 1/4 [02:49<08:29, 169.71s/it]"
     ]
    },
    {
     "name": "stdout",
     "output_type": "stream",
     "text": [
      "rm_region_list:  ['R4_77']\n"
     ]
    },
    {
     "name": "stderr",
     "output_type": "stream",
     "text": [
      "/home/pink/dust/NIER_v5/src/dataset/preprocessing.py:244: SettingWithCopyWarning: \n",
      "A value is trying to be set on a copy of a slice from a DataFrame\n",
      "\n",
      "See the caveats in the documentation: https://pandas.pydata.org/pandas-docs/stable/user_guide/indexing.html#returning-a-view-versus-a-copy\n",
      "  obs_df[\"WEEK_NO_CN\"].loc[obs_df[\"WEEK_NO_CN\"] >= 6] = 1\n",
      "/home/pink/dust/NIER_v5/src/dataset/preprocessing.py:246: SettingWithCopyWarning: \n",
      "A value is trying to be set on a copy of a slice from a DataFrame\n",
      "\n",
      "See the caveats in the documentation: https://pandas.pydata.org/pandas-docs/stable/user_guide/indexing.html#returning-a-view-versus-a-copy\n",
      "  obs_df[\"WEEK_NO_KR\"].loc[obs_df[\"WEEK_NO_KR\"] >= 6] = 1\n"
     ]
    },
    {
     "name": "stdout",
     "output_type": "stream",
     "text": [
      "All OBS Record Correct\n",
      "All FNL Record Correct\n",
      "All WRF Record Correct\n",
      "All CMAQ Record Correct\n",
      "remove region:  R4_77\n",
      "remove region:  R4_77\n",
      "remove region:  R4_77\n",
      "remove region:  R4_77\n",
      "remove region:  R4_77\n",
      "numeric - remove region:  R4_77\n"
     ]
    },
    {
     "name": "stderr",
     "output_type": "stream",
     "text": [
      " 50%|█████     | 2/4 [05:26<05:23, 161.86s/it]"
     ]
    },
    {
     "name": "stdout",
     "output_type": "stream",
     "text": [
      "rm_region_list:  ['R4_77', 'R4_73']\n"
     ]
    },
    {
     "name": "stderr",
     "output_type": "stream",
     "text": [
      "/home/pink/dust/NIER_v5/src/dataset/preprocessing.py:244: SettingWithCopyWarning: \n",
      "A value is trying to be set on a copy of a slice from a DataFrame\n",
      "\n",
      "See the caveats in the documentation: https://pandas.pydata.org/pandas-docs/stable/user_guide/indexing.html#returning-a-view-versus-a-copy\n",
      "  obs_df[\"WEEK_NO_CN\"].loc[obs_df[\"WEEK_NO_CN\"] >= 6] = 1\n",
      "/home/pink/dust/NIER_v5/src/dataset/preprocessing.py:246: SettingWithCopyWarning: \n",
      "A value is trying to be set on a copy of a slice from a DataFrame\n",
      "\n",
      "See the caveats in the documentation: https://pandas.pydata.org/pandas-docs/stable/user_guide/indexing.html#returning-a-view-versus-a-copy\n",
      "  obs_df[\"WEEK_NO_KR\"].loc[obs_df[\"WEEK_NO_KR\"] >= 6] = 1\n"
     ]
    },
    {
     "name": "stdout",
     "output_type": "stream",
     "text": [
      "All OBS Record Correct\n",
      "All FNL Record Correct\n",
      "All WRF Record Correct\n",
      "All CMAQ Record Correct\n",
      "remove region:  R4_73\n",
      "remove region:  R4_77\n",
      "remove region:  R4_73\n",
      "remove region:  R4_77\n",
      "remove region:  R4_73\n",
      "remove region:  R4_77\n",
      "remove region:  R4_73\n",
      "remove region:  R4_77\n",
      "remove region:  R4_73\n",
      "remove region:  R4_77\n",
      "numeric - remove region:  R4_73\n",
      "numeric - remove region:  R4_77\n"
     ]
    },
    {
     "name": "stderr",
     "output_type": "stream",
     "text": [
      " 75%|███████▌  | 3/4 [08:19<02:47, 167.02s/it]"
     ]
    },
    {
     "name": "stdout",
     "output_type": "stream",
     "text": [
      "rm_region_list:  ['R4_69', 'R4_77', 'R4_73', 'R4_72']\n"
     ]
    },
    {
     "name": "stderr",
     "output_type": "stream",
     "text": [
      "/home/pink/dust/NIER_v5/src/dataset/preprocessing.py:244: SettingWithCopyWarning: \n",
      "A value is trying to be set on a copy of a slice from a DataFrame\n",
      "\n",
      "See the caveats in the documentation: https://pandas.pydata.org/pandas-docs/stable/user_guide/indexing.html#returning-a-view-versus-a-copy\n",
      "  obs_df[\"WEEK_NO_CN\"].loc[obs_df[\"WEEK_NO_CN\"] >= 6] = 1\n",
      "/home/pink/dust/NIER_v5/src/dataset/preprocessing.py:246: SettingWithCopyWarning: \n",
      "A value is trying to be set on a copy of a slice from a DataFrame\n",
      "\n",
      "See the caveats in the documentation: https://pandas.pydata.org/pandas-docs/stable/user_guide/indexing.html#returning-a-view-versus-a-copy\n",
      "  obs_df[\"WEEK_NO_KR\"].loc[obs_df[\"WEEK_NO_KR\"] >= 6] = 1\n"
     ]
    },
    {
     "name": "stdout",
     "output_type": "stream",
     "text": [
      "All OBS Record Correct\n",
      "All FNL Record Correct\n",
      "All WRF Record Correct\n",
      "All CMAQ Record Correct\n",
      "remove region:  R4_69\n",
      "remove region:  R4_72\n",
      "remove region:  R4_73\n",
      "remove region:  R4_77\n",
      "remove region:  R4_69\n",
      "remove region:  R4_72\n",
      "remove region:  R4_73\n",
      "remove region:  R4_77\n",
      "remove region:  R4_69\n",
      "remove region:  R4_72\n",
      "remove region:  R4_73\n",
      "remove region:  R4_77\n",
      "remove region:  R4_69\n",
      "remove region:  R4_72\n",
      "remove region:  R4_73\n",
      "remove region:  R4_77\n",
      "remove region:  R4_69\n",
      "remove region:  R4_72\n",
      "remove region:  R4_73\n",
      "remove region:  R4_77\n",
      "numeric - remove region:  R4_69\n",
      "numeric - remove region:  R4_72\n",
      "numeric - remove region:  R4_73\n",
      "numeric - remove region:  R4_77\n"
     ]
    },
    {
     "name": "stderr",
     "output_type": "stream",
     "text": [
      "100%|██████████| 4/4 [11:11<00:00, 167.78s/it]\n"
     ]
    },
    {
     "name": "stdout",
     "output_type": "stream",
     "text": [
      "R4_73 is processing...\n"
     ]
    },
    {
     "name": "stderr",
     "output_type": "stream",
     "text": [
      "  0%|          | 0/4 [00:00<?, ?it/s]"
     ]
    },
    {
     "name": "stdout",
     "output_type": "stream",
     "text": [
      "rm_region_list:  []\n"
     ]
    },
    {
     "name": "stderr",
     "output_type": "stream",
     "text": [
      "/home/pink/dust/NIER_v5/src/dataset/preprocessing.py:244: SettingWithCopyWarning: \n",
      "A value is trying to be set on a copy of a slice from a DataFrame\n",
      "\n",
      "See the caveats in the documentation: https://pandas.pydata.org/pandas-docs/stable/user_guide/indexing.html#returning-a-view-versus-a-copy\n",
      "  obs_df[\"WEEK_NO_CN\"].loc[obs_df[\"WEEK_NO_CN\"] >= 6] = 1\n",
      "/home/pink/dust/NIER_v5/src/dataset/preprocessing.py:246: SettingWithCopyWarning: \n",
      "A value is trying to be set on a copy of a slice from a DataFrame\n",
      "\n",
      "See the caveats in the documentation: https://pandas.pydata.org/pandas-docs/stable/user_guide/indexing.html#returning-a-view-versus-a-copy\n",
      "  obs_df[\"WEEK_NO_KR\"].loc[obs_df[\"WEEK_NO_KR\"] >= 6] = 1\n"
     ]
    },
    {
     "name": "stdout",
     "output_type": "stream",
     "text": [
      "All OBS Record Correct\n",
      "All FNL Record Correct\n",
      "All WRF Record Correct\n",
      "All CMAQ Record Correct\n"
     ]
    },
    {
     "name": "stderr",
     "output_type": "stream",
     "text": [
      " 25%|██▌       | 1/4 [03:04<09:14, 184.89s/it]"
     ]
    },
    {
     "name": "stdout",
     "output_type": "stream",
     "text": [
      "rm_region_list:  ['R4_77']\n"
     ]
    },
    {
     "name": "stderr",
     "output_type": "stream",
     "text": [
      "/home/pink/dust/NIER_v5/src/dataset/preprocessing.py:244: SettingWithCopyWarning: \n",
      "A value is trying to be set on a copy of a slice from a DataFrame\n",
      "\n",
      "See the caveats in the documentation: https://pandas.pydata.org/pandas-docs/stable/user_guide/indexing.html#returning-a-view-versus-a-copy\n",
      "  obs_df[\"WEEK_NO_CN\"].loc[obs_df[\"WEEK_NO_CN\"] >= 6] = 1\n",
      "/home/pink/dust/NIER_v5/src/dataset/preprocessing.py:246: SettingWithCopyWarning: \n",
      "A value is trying to be set on a copy of a slice from a DataFrame\n",
      "\n",
      "See the caveats in the documentation: https://pandas.pydata.org/pandas-docs/stable/user_guide/indexing.html#returning-a-view-versus-a-copy\n",
      "  obs_df[\"WEEK_NO_KR\"].loc[obs_df[\"WEEK_NO_KR\"] >= 6] = 1\n"
     ]
    },
    {
     "name": "stdout",
     "output_type": "stream",
     "text": [
      "All OBS Record Correct\n",
      "All FNL Record Correct\n",
      "All WRF Record Correct\n",
      "All CMAQ Record Correct\n",
      "remove region:  R4_77\n",
      "remove region:  R4_77\n",
      "remove region:  R4_77\n",
      "remove region:  R4_77\n",
      "remove region:  R4_77\n",
      "numeric - remove region:  R4_77\n"
     ]
    },
    {
     "name": "stderr",
     "output_type": "stream",
     "text": [
      " 50%|█████     | 2/4 [05:49<05:45, 172.96s/it]"
     ]
    },
    {
     "name": "stdout",
     "output_type": "stream",
     "text": [
      "rm_region_list:  ['R4_77', 'R4_64']\n"
     ]
    },
    {
     "name": "stderr",
     "output_type": "stream",
     "text": [
      "/home/pink/dust/NIER_v5/src/dataset/preprocessing.py:244: SettingWithCopyWarning: \n",
      "A value is trying to be set on a copy of a slice from a DataFrame\n",
      "\n",
      "See the caveats in the documentation: https://pandas.pydata.org/pandas-docs/stable/user_guide/indexing.html#returning-a-view-versus-a-copy\n",
      "  obs_df[\"WEEK_NO_CN\"].loc[obs_df[\"WEEK_NO_CN\"] >= 6] = 1\n",
      "/home/pink/dust/NIER_v5/src/dataset/preprocessing.py:246: SettingWithCopyWarning: \n",
      "A value is trying to be set on a copy of a slice from a DataFrame\n",
      "\n",
      "See the caveats in the documentation: https://pandas.pydata.org/pandas-docs/stable/user_guide/indexing.html#returning-a-view-versus-a-copy\n",
      "  obs_df[\"WEEK_NO_KR\"].loc[obs_df[\"WEEK_NO_KR\"] >= 6] = 1\n"
     ]
    },
    {
     "name": "stdout",
     "output_type": "stream",
     "text": [
      "All OBS Record Correct\n",
      "All FNL Record Correct\n",
      "All WRF Record Correct\n",
      "All CMAQ Record Correct\n",
      "remove region:  R4_64\n",
      "remove region:  R4_77\n",
      "remove region:  R4_64\n",
      "remove region:  R4_77\n",
      "remove region:  R4_64\n",
      "remove region:  R4_77\n",
      "remove region:  R4_64\n",
      "remove region:  R4_77\n",
      "remove region:  R4_64\n",
      "remove region:  R4_77\n",
      "numeric - remove region:  R4_64\n",
      "numeric - remove region:  R4_77\n"
     ]
    },
    {
     "name": "stderr",
     "output_type": "stream",
     "text": [
      " 75%|███████▌  | 3/4 [08:45<02:54, 174.54s/it]"
     ]
    },
    {
     "name": "stdout",
     "output_type": "stream",
     "text": [
      "rm_region_list:  ['R4_77', 'R4_64', 'R4_71', 'R4_70']\n"
     ]
    },
    {
     "name": "stderr",
     "output_type": "stream",
     "text": [
      "/home/pink/dust/NIER_v5/src/dataset/preprocessing.py:244: SettingWithCopyWarning: \n",
      "A value is trying to be set on a copy of a slice from a DataFrame\n",
      "\n",
      "See the caveats in the documentation: https://pandas.pydata.org/pandas-docs/stable/user_guide/indexing.html#returning-a-view-versus-a-copy\n",
      "  obs_df[\"WEEK_NO_CN\"].loc[obs_df[\"WEEK_NO_CN\"] >= 6] = 1\n",
      "/home/pink/dust/NIER_v5/src/dataset/preprocessing.py:246: SettingWithCopyWarning: \n",
      "A value is trying to be set on a copy of a slice from a DataFrame\n",
      "\n",
      "See the caveats in the documentation: https://pandas.pydata.org/pandas-docs/stable/user_guide/indexing.html#returning-a-view-versus-a-copy\n",
      "  obs_df[\"WEEK_NO_KR\"].loc[obs_df[\"WEEK_NO_KR\"] >= 6] = 1\n"
     ]
    },
    {
     "name": "stdout",
     "output_type": "stream",
     "text": [
      "All OBS Record Correct\n",
      "All FNL Record Correct\n",
      "All WRF Record Correct\n",
      "All CMAQ Record Correct\n",
      "remove region:  R4_64\n",
      "remove region:  R4_70\n",
      "remove region:  R4_71\n",
      "remove region:  R4_77\n",
      "remove region:  R4_64\n",
      "remove region:  R4_70\n",
      "remove region:  R4_71\n",
      "remove region:  R4_77\n",
      "remove region:  R4_64\n",
      "remove region:  R4_70\n",
      "remove region:  R4_71\n",
      "remove region:  R4_77\n",
      "remove region:  R4_64\n",
      "remove region:  R4_70\n",
      "remove region:  R4_71\n",
      "remove region:  R4_77\n",
      "remove region:  R4_64\n",
      "remove region:  R4_70\n",
      "remove region:  R4_71\n",
      "remove region:  R4_77\n",
      "numeric - remove region:  R4_64\n",
      "numeric - remove region:  R4_70\n",
      "numeric - remove region:  R4_71\n",
      "numeric - remove region:  R4_77\n"
     ]
    },
    {
     "name": "stderr",
     "output_type": "stream",
     "text": [
      "100%|██████████| 4/4 [11:42<00:00, 175.67s/it]\n"
     ]
    },
    {
     "name": "stdout",
     "output_type": "stream",
     "text": [
      "R4_76 is processing...\n"
     ]
    },
    {
     "name": "stderr",
     "output_type": "stream",
     "text": [
      "  0%|          | 0/4 [00:00<?, ?it/s]"
     ]
    },
    {
     "name": "stdout",
     "output_type": "stream",
     "text": [
      "rm_region_list:  []\n"
     ]
    },
    {
     "name": "stderr",
     "output_type": "stream",
     "text": [
      "/home/pink/dust/NIER_v5/src/dataset/preprocessing.py:244: SettingWithCopyWarning: \n",
      "A value is trying to be set on a copy of a slice from a DataFrame\n",
      "\n",
      "See the caveats in the documentation: https://pandas.pydata.org/pandas-docs/stable/user_guide/indexing.html#returning-a-view-versus-a-copy\n",
      "  obs_df[\"WEEK_NO_CN\"].loc[obs_df[\"WEEK_NO_CN\"] >= 6] = 1\n",
      "/home/pink/dust/NIER_v5/src/dataset/preprocessing.py:246: SettingWithCopyWarning: \n",
      "A value is trying to be set on a copy of a slice from a DataFrame\n",
      "\n",
      "See the caveats in the documentation: https://pandas.pydata.org/pandas-docs/stable/user_guide/indexing.html#returning-a-view-versus-a-copy\n",
      "  obs_df[\"WEEK_NO_KR\"].loc[obs_df[\"WEEK_NO_KR\"] >= 6] = 1\n"
     ]
    },
    {
     "name": "stdout",
     "output_type": "stream",
     "text": [
      "All OBS Record Correct\n",
      "All FNL Record Correct\n",
      "All WRF Record Correct\n",
      "All CMAQ Record Correct\n"
     ]
    },
    {
     "name": "stderr",
     "output_type": "stream",
     "text": [
      " 25%|██▌       | 1/4 [03:01<09:03, 181.06s/it]"
     ]
    },
    {
     "name": "stdout",
     "output_type": "stream",
     "text": [
      "rm_region_list:  ['R4_77']\n"
     ]
    },
    {
     "name": "stderr",
     "output_type": "stream",
     "text": [
      "/home/pink/dust/NIER_v5/src/dataset/preprocessing.py:244: SettingWithCopyWarning: \n",
      "A value is trying to be set on a copy of a slice from a DataFrame\n",
      "\n",
      "See the caveats in the documentation: https://pandas.pydata.org/pandas-docs/stable/user_guide/indexing.html#returning-a-view-versus-a-copy\n",
      "  obs_df[\"WEEK_NO_CN\"].loc[obs_df[\"WEEK_NO_CN\"] >= 6] = 1\n",
      "/home/pink/dust/NIER_v5/src/dataset/preprocessing.py:246: SettingWithCopyWarning: \n",
      "A value is trying to be set on a copy of a slice from a DataFrame\n",
      "\n",
      "See the caveats in the documentation: https://pandas.pydata.org/pandas-docs/stable/user_guide/indexing.html#returning-a-view-versus-a-copy\n",
      "  obs_df[\"WEEK_NO_KR\"].loc[obs_df[\"WEEK_NO_KR\"] >= 6] = 1\n"
     ]
    },
    {
     "name": "stdout",
     "output_type": "stream",
     "text": [
      "All OBS Record Correct\n",
      "All FNL Record Correct\n",
      "All WRF Record Correct\n",
      "All CMAQ Record Correct\n",
      "remove region:  R4_77\n",
      "remove region:  R4_77\n",
      "remove region:  R4_77\n",
      "remove region:  R4_77\n",
      "remove region:  R4_77\n",
      "numeric - remove region:  R4_77\n"
     ]
    },
    {
     "name": "stderr",
     "output_type": "stream",
     "text": [
      " 50%|█████     | 2/4 [05:59<05:58, 179.25s/it]"
     ]
    },
    {
     "name": "stdout",
     "output_type": "stream",
     "text": [
      "rm_region_list:  ['R4_77', 'R4_64']\n"
     ]
    },
    {
     "name": "stderr",
     "output_type": "stream",
     "text": [
      "/home/pink/dust/NIER_v5/src/dataset/preprocessing.py:244: SettingWithCopyWarning: \n",
      "A value is trying to be set on a copy of a slice from a DataFrame\n",
      "\n",
      "See the caveats in the documentation: https://pandas.pydata.org/pandas-docs/stable/user_guide/indexing.html#returning-a-view-versus-a-copy\n",
      "  obs_df[\"WEEK_NO_CN\"].loc[obs_df[\"WEEK_NO_CN\"] >= 6] = 1\n",
      "/home/pink/dust/NIER_v5/src/dataset/preprocessing.py:246: SettingWithCopyWarning: \n",
      "A value is trying to be set on a copy of a slice from a DataFrame\n",
      "\n",
      "See the caveats in the documentation: https://pandas.pydata.org/pandas-docs/stable/user_guide/indexing.html#returning-a-view-versus-a-copy\n",
      "  obs_df[\"WEEK_NO_KR\"].loc[obs_df[\"WEEK_NO_KR\"] >= 6] = 1\n"
     ]
    },
    {
     "name": "stdout",
     "output_type": "stream",
     "text": [
      "All OBS Record Correct\n",
      "All FNL Record Correct\n",
      "All WRF Record Correct\n",
      "All CMAQ Record Correct\n",
      "remove region:  R4_64\n",
      "remove region:  R4_77\n",
      "remove region:  R4_64\n",
      "remove region:  R4_77\n",
      "remove region:  R4_64\n",
      "remove region:  R4_77\n",
      "remove region:  R4_64\n",
      "remove region:  R4_77\n",
      "remove region:  R4_64\n",
      "remove region:  R4_77\n",
      "numeric - remove region:  R4_64\n",
      "numeric - remove region:  R4_77\n"
     ]
    },
    {
     "name": "stderr",
     "output_type": "stream",
     "text": [
      " 75%|███████▌  | 3/4 [08:57<02:59, 179.10s/it]"
     ]
    },
    {
     "name": "stdout",
     "output_type": "stream",
     "text": [
      "rm_region_list:  ['R4_77', 'R4_66', 'R4_67', 'R4_68', 'R4_64', 'R4_65', 'R4_63']\n"
     ]
    },
    {
     "name": "stderr",
     "output_type": "stream",
     "text": [
      "/home/pink/dust/NIER_v5/src/dataset/preprocessing.py:244: SettingWithCopyWarning: \n",
      "A value is trying to be set on a copy of a slice from a DataFrame\n",
      "\n",
      "See the caveats in the documentation: https://pandas.pydata.org/pandas-docs/stable/user_guide/indexing.html#returning-a-view-versus-a-copy\n",
      "  obs_df[\"WEEK_NO_CN\"].loc[obs_df[\"WEEK_NO_CN\"] >= 6] = 1\n",
      "/home/pink/dust/NIER_v5/src/dataset/preprocessing.py:246: SettingWithCopyWarning: \n",
      "A value is trying to be set on a copy of a slice from a DataFrame\n",
      "\n",
      "See the caveats in the documentation: https://pandas.pydata.org/pandas-docs/stable/user_guide/indexing.html#returning-a-view-versus-a-copy\n",
      "  obs_df[\"WEEK_NO_KR\"].loc[obs_df[\"WEEK_NO_KR\"] >= 6] = 1\n"
     ]
    },
    {
     "name": "stdout",
     "output_type": "stream",
     "text": [
      "All OBS Record Correct\n",
      "All FNL Record Correct\n",
      "All WRF Record Correct\n",
      "All CMAQ Record Correct\n",
      "remove region:  R4_63\n",
      "remove region:  R4_64\n",
      "remove region:  R4_65\n",
      "remove region:  R4_66\n",
      "remove region:  R4_67\n",
      "remove region:  R4_68\n",
      "remove region:  R4_77\n",
      "remove region:  R4_63\n",
      "remove region:  R4_64\n",
      "remove region:  R4_65\n",
      "remove region:  R4_66\n",
      "remove region:  R4_67\n",
      "remove region:  R4_68\n",
      "remove region:  R4_77\n",
      "remove region:  R4_63\n",
      "remove region:  R4_64\n",
      "remove region:  R4_65\n",
      "remove region:  R4_66\n",
      "remove region:  R4_67\n",
      "remove region:  R4_68\n",
      "remove region:  R4_77\n",
      "remove region:  R4_63\n",
      "remove region:  R4_64\n",
      "remove region:  R4_65\n",
      "remove region:  R4_66\n",
      "remove region:  R4_67\n",
      "remove region:  R4_68\n",
      "remove region:  R4_77\n",
      "remove region:  R4_63\n",
      "remove region:  R4_64\n",
      "remove region:  R4_65\n",
      "remove region:  R4_66\n",
      "remove region:  R4_67\n",
      "remove region:  R4_68\n",
      "remove region:  R4_77\n",
      "numeric - remove region:  R4_63\n",
      "numeric - remove region:  R4_64\n",
      "numeric - remove region:  R4_65\n",
      "numeric - remove region:  R4_66\n",
      "numeric - remove region:  R4_67\n",
      "numeric - remove region:  R4_68\n",
      "numeric - remove region:  R4_77\n"
     ]
    },
    {
     "name": "stderr",
     "output_type": "stream",
     "text": [
      "100%|██████████| 4/4 [11:35<00:00, 173.97s/it]\n"
     ]
    },
    {
     "name": "stdout",
     "output_type": "stream",
     "text": [
      "R4_77 is processing...\n"
     ]
    },
    {
     "name": "stderr",
     "output_type": "stream",
     "text": [
      "  0%|          | 0/4 [00:00<?, ?it/s]"
     ]
    },
    {
     "name": "stdout",
     "output_type": "stream",
     "text": [
      "rm_region_list:  []\n"
     ]
    },
    {
     "name": "stderr",
     "output_type": "stream",
     "text": [
      "/home/pink/dust/NIER_v5/src/dataset/preprocessing.py:244: SettingWithCopyWarning: \n",
      "A value is trying to be set on a copy of a slice from a DataFrame\n",
      "\n",
      "See the caveats in the documentation: https://pandas.pydata.org/pandas-docs/stable/user_guide/indexing.html#returning-a-view-versus-a-copy\n",
      "  obs_df[\"WEEK_NO_CN\"].loc[obs_df[\"WEEK_NO_CN\"] >= 6] = 1\n",
      "/home/pink/dust/NIER_v5/src/dataset/preprocessing.py:246: SettingWithCopyWarning: \n",
      "A value is trying to be set on a copy of a slice from a DataFrame\n",
      "\n",
      "See the caveats in the documentation: https://pandas.pydata.org/pandas-docs/stable/user_guide/indexing.html#returning-a-view-versus-a-copy\n",
      "  obs_df[\"WEEK_NO_KR\"].loc[obs_df[\"WEEK_NO_KR\"] >= 6] = 1\n"
     ]
    },
    {
     "name": "stdout",
     "output_type": "stream",
     "text": [
      "All OBS Record Correct\n",
      "All FNL Record Correct\n",
      "All WRF Record Correct\n",
      "All CMAQ Record Correct\n"
     ]
    },
    {
     "name": "stderr",
     "output_type": "stream",
     "text": [
      " 25%|██▌       | 1/4 [02:51<08:35, 171.81s/it]"
     ]
    },
    {
     "name": "stdout",
     "output_type": "stream",
     "text": [
      "rm_region_list:  ['R4_64']\n"
     ]
    },
    {
     "name": "stderr",
     "output_type": "stream",
     "text": [
      "/home/pink/dust/NIER_v5/src/dataset/preprocessing.py:244: SettingWithCopyWarning: \n",
      "A value is trying to be set on a copy of a slice from a DataFrame\n",
      "\n",
      "See the caveats in the documentation: https://pandas.pydata.org/pandas-docs/stable/user_guide/indexing.html#returning-a-view-versus-a-copy\n",
      "  obs_df[\"WEEK_NO_CN\"].loc[obs_df[\"WEEK_NO_CN\"] >= 6] = 1\n",
      "/home/pink/dust/NIER_v5/src/dataset/preprocessing.py:246: SettingWithCopyWarning: \n",
      "A value is trying to be set on a copy of a slice from a DataFrame\n",
      "\n",
      "See the caveats in the documentation: https://pandas.pydata.org/pandas-docs/stable/user_guide/indexing.html#returning-a-view-versus-a-copy\n",
      "  obs_df[\"WEEK_NO_KR\"].loc[obs_df[\"WEEK_NO_KR\"] >= 6] = 1\n"
     ]
    },
    {
     "name": "stdout",
     "output_type": "stream",
     "text": [
      "All OBS Record Correct\n",
      "All FNL Record Correct\n",
      "All WRF Record Correct\n",
      "All CMAQ Record Correct\n",
      "remove region:  R4_64\n",
      "remove region:  R4_64\n",
      "remove region:  R4_64\n",
      "remove region:  R4_64\n",
      "remove region:  R4_64\n",
      "numeric - remove region:  R4_64\n"
     ]
    },
    {
     "name": "stderr",
     "output_type": "stream",
     "text": [
      " 50%|█████     | 2/4 [05:36<05:34, 167.40s/it]"
     ]
    },
    {
     "name": "stdout",
     "output_type": "stream",
     "text": [
      "rm_region_list:  ['R4_59', 'R4_61', 'R4_60', 'R4_64', 'R4_65', 'R4_62', 'R4_63']\n"
     ]
    },
    {
     "name": "stderr",
     "output_type": "stream",
     "text": [
      "/home/pink/dust/NIER_v5/src/dataset/preprocessing.py:244: SettingWithCopyWarning: \n",
      "A value is trying to be set on a copy of a slice from a DataFrame\n",
      "\n",
      "See the caveats in the documentation: https://pandas.pydata.org/pandas-docs/stable/user_guide/indexing.html#returning-a-view-versus-a-copy\n",
      "  obs_df[\"WEEK_NO_CN\"].loc[obs_df[\"WEEK_NO_CN\"] >= 6] = 1\n",
      "/home/pink/dust/NIER_v5/src/dataset/preprocessing.py:246: SettingWithCopyWarning: \n",
      "A value is trying to be set on a copy of a slice from a DataFrame\n",
      "\n",
      "See the caveats in the documentation: https://pandas.pydata.org/pandas-docs/stable/user_guide/indexing.html#returning-a-view-versus-a-copy\n",
      "  obs_df[\"WEEK_NO_KR\"].loc[obs_df[\"WEEK_NO_KR\"] >= 6] = 1\n"
     ]
    },
    {
     "name": "stdout",
     "output_type": "stream",
     "text": [
      "All OBS Record Correct\n",
      "All FNL Record Correct\n",
      "All WRF Record Correct\n",
      "All CMAQ Record Correct\n",
      "remove region:  R4_59\n",
      "remove region:  R4_60\n",
      "remove region:  R4_61\n",
      "remove region:  R4_62\n",
      "remove region:  R4_63\n",
      "remove region:  R4_64\n",
      "remove region:  R4_65\n",
      "remove region:  R4_59\n",
      "remove region:  R4_60\n",
      "remove region:  R4_61\n",
      "remove region:  R4_62\n",
      "remove region:  R4_63\n",
      "remove region:  R4_64\n",
      "remove region:  R4_65\n",
      "remove region:  R4_59\n",
      "remove region:  R4_60\n",
      "remove region:  R4_61\n",
      "remove region:  R4_62\n",
      "remove region:  R4_63\n",
      "remove region:  R4_64\n",
      "remove region:  R4_65\n",
      "remove region:  R4_59\n",
      "remove region:  R4_60\n",
      "remove region:  R4_61\n",
      "remove region:  R4_62\n",
      "remove region:  R4_63\n",
      "remove region:  R4_64\n",
      "remove region:  R4_65\n",
      "remove region:  R4_59\n",
      "remove region:  R4_60\n",
      "remove region:  R4_61\n",
      "remove region:  R4_62\n",
      "remove region:  R4_63\n",
      "remove region:  R4_64\n",
      "remove region:  R4_65\n",
      "numeric - remove region:  R4_59\n",
      "numeric - remove region:  R4_60\n",
      "numeric - remove region:  R4_61\n",
      "numeric - remove region:  R4_62\n",
      "numeric - remove region:  R4_63\n",
      "numeric - remove region:  R4_64\n",
      "numeric - remove region:  R4_65\n"
     ]
    },
    {
     "name": "stderr",
     "output_type": "stream",
     "text": [
      " 75%|███████▌  | 3/4 [08:16<02:44, 164.37s/it]"
     ]
    },
    {
     "name": "stdout",
     "output_type": "stream",
     "text": [
      "rm_region_list:  ['R4_66', 'R4_67', 'R4_59', 'R4_68', 'R4_61', 'R4_60', 'R4_64', 'R4_65', 'R4_62', 'R4_63']\n"
     ]
    },
    {
     "name": "stderr",
     "output_type": "stream",
     "text": [
      "/home/pink/dust/NIER_v5/src/dataset/preprocessing.py:244: SettingWithCopyWarning: \n",
      "A value is trying to be set on a copy of a slice from a DataFrame\n",
      "\n",
      "See the caveats in the documentation: https://pandas.pydata.org/pandas-docs/stable/user_guide/indexing.html#returning-a-view-versus-a-copy\n",
      "  obs_df[\"WEEK_NO_CN\"].loc[obs_df[\"WEEK_NO_CN\"] >= 6] = 1\n",
      "/home/pink/dust/NIER_v5/src/dataset/preprocessing.py:246: SettingWithCopyWarning: \n",
      "A value is trying to be set on a copy of a slice from a DataFrame\n",
      "\n",
      "See the caveats in the documentation: https://pandas.pydata.org/pandas-docs/stable/user_guide/indexing.html#returning-a-view-versus-a-copy\n",
      "  obs_df[\"WEEK_NO_KR\"].loc[obs_df[\"WEEK_NO_KR\"] >= 6] = 1\n"
     ]
    },
    {
     "name": "stdout",
     "output_type": "stream",
     "text": [
      "All OBS Record Correct\n",
      "All FNL Record Correct\n",
      "All WRF Record Correct\n",
      "All CMAQ Record Correct\n",
      "remove region:  R4_59\n",
      "remove region:  R4_60\n",
      "remove region:  R4_61\n",
      "remove region:  R4_62\n",
      "remove region:  R4_63\n",
      "remove region:  R4_64\n",
      "remove region:  R4_65\n",
      "remove region:  R4_66\n",
      "remove region:  R4_67\n",
      "remove region:  R4_68\n",
      "remove region:  R4_59\n",
      "remove region:  R4_60\n",
      "remove region:  R4_61\n",
      "remove region:  R4_62\n",
      "remove region:  R4_63\n",
      "remove region:  R4_64\n",
      "remove region:  R4_65\n",
      "remove region:  R4_66\n",
      "remove region:  R4_67\n",
      "remove region:  R4_68\n",
      "remove region:  R4_59\n",
      "remove region:  R4_60\n",
      "remove region:  R4_61\n",
      "remove region:  R4_62\n",
      "remove region:  R4_63\n",
      "remove region:  R4_64\n",
      "remove region:  R4_65\n",
      "remove region:  R4_66\n",
      "remove region:  R4_67\n",
      "remove region:  R4_68\n",
      "remove region:  R4_59\n",
      "remove region:  R4_60\n",
      "remove region:  R4_61\n",
      "remove region:  R4_62\n",
      "remove region:  R4_63\n",
      "remove region:  R4_64\n",
      "remove region:  R4_65\n",
      "remove region:  R4_66\n",
      "remove region:  R4_67\n",
      "remove region:  R4_68\n",
      "remove region:  R4_59\n",
      "remove region:  R4_60\n",
      "remove region:  R4_61\n",
      "remove region:  R4_62\n",
      "remove region:  R4_63\n",
      "remove region:  R4_64\n",
      "remove region:  R4_65\n",
      "remove region:  R4_66\n",
      "remove region:  R4_67\n",
      "remove region:  R4_68\n",
      "numeric - remove region:  R4_59\n",
      "numeric - remove region:  R4_60\n",
      "numeric - remove region:  R4_61\n",
      "numeric - remove region:  R4_62\n",
      "numeric - remove region:  R4_63\n",
      "numeric - remove region:  R4_64\n",
      "numeric - remove region:  R4_65\n",
      "numeric - remove region:  R4_66\n",
      "numeric - remove region:  R4_67\n",
      "numeric - remove region:  R4_68\n"
     ]
    },
    {
     "name": "stderr",
     "output_type": "stream",
     "text": [
      "100%|██████████| 4/4 [10:49<00:00, 162.27s/it]\n"
     ]
    }
   ],
   "source": [
    "regions = ['R4_62', 'R4_64', 'R4_67', 'R4_69', 'R4_71', 'R4_73', 'R4_76', 'R4_77']\n",
    "rm_regions = [0, 1, 2, 3]\n",
    "\n",
    "for region in regions:\n",
    "    print(region, \"is processing...\")\n",
    "    for rm_num in tqdm(rm_regions):\n",
    "        MakeNIERDataset(reset_db=False, save_processed_data=True, run_pca=True, start_date=20190101, until_date=20211231, test_date=20210101, predict_region=region, remove_region=rm_num, preprocess_root='data_folder/', root_dir='data_folder/', rmgroup_file='../NIER_v5/data_folder/height_region_list.csv')"
   ]
  },
  {
   "cell_type": "code",
   "execution_count": null,
   "metadata": {},
   "outputs": [],
   "source": [
    "MakeNIERDataset(reset_db=False, save_processed_data=True, run_pca=True, start_date=20190101, until_date=20211231, test_date=20210101, predict_region='R4_62', remove_region=0, preprocess_root='data_folder/', root_dir='data_folder/', rmgroup_file='../NIER_v5/data_folder/height_region_list.csv')"
   ]
  },
  {
   "cell_type": "code",
   "execution_count": null,
   "metadata": {
    "collapsed": true
   },
   "outputs": [],
   "source": [
    "data_dir = \"height_data_folder\"\n",
    "\n",
    "# def make_dataset(): # 데이터셋 생성코드\n",
    "_ = MakeNIERDataset(reset_db=False, save_processed_data=True, run_pca=True, start_date=20190101, until_date=20211231, test_date=20210101, predict_region='R4_62',root_dir='data_folder/', remove_region=0, preprocess_root='data_folder/', rmgroup_file='../NIER_v5/data_folder/height_region_list.csv')\n",
    "    "
   ]
  },
  {
   "cell_type": "code",
   "execution_count": null,
   "metadata": {},
   "outputs": [],
   "source": []
  },
  {
   "cell_type": "code",
   "execution_count": null,
   "metadata": {},
   "outputs": [],
   "source": []
  },
  {
   "cell_type": "code",
   "execution_count": null,
   "metadata": {},
   "outputs": [],
   "source": []
  },
  {
   "cell_type": "code",
   "execution_count": null,
   "metadata": {},
   "outputs": [],
   "source": []
  },
  {
   "cell_type": "code",
   "execution_count": null,
   "metadata": {},
   "outputs": [],
   "source": []
  },
  {
   "cell_type": "code",
   "execution_count": null,
   "metadata": {},
   "outputs": [],
   "source": []
  },
  {
   "cell_type": "code",
   "execution_count": null,
   "metadata": {},
   "outputs": [],
   "source": [
    "\n",
    "import csv\n",
    "file_list = os.listdir('data_folder')\n",
    "with open('data_folder/height_region_list.csv', 'r', encoding='utf-8') as f:\n",
    "    reader = csv.reader(f)\n",
    "    for i, line in enumerate(reader):\n",
    "        \n",
    "        if i > 0:\n",
    "            line = list(line)\n",
    "            region_num = line[0]\n",
    "            print(line[0])\n",
    "            rm_groups = line[1].split(',')\n",
    "            rm_regions1 = line[2].split(',')\n",
    "            rm_regions2 = line[2].split(',')+line[3].split(',')\n",
    "            rm_regions3 = line[2].split(',')+line[3].split(',')+line[4].split(',')\n",
    "            rm_regions1.sort()\n",
    "            rm_regions2.sort()\n",
    "            rm_regions3.sort()\n",
    "            rm_regions1_pickle = \"-\".join(rm_regions1) + \".pkl\"\n",
    "            rm_regions2_pickle = \"-\".join(rm_regions2) + \".pkl\"\n",
    "            rm_regions3_pickle = \"-\".join(rm_regions3) + \".pkl\"\n",
    "            file_list = os.listdir('data_folder')\n",
    "            # print(file_list)\n",
    "            if rm_regions1_pickle not in file_list:\n",
    "                RMMakeNIERDataset(reset_db=False, save_processed_data=False, run_pca=True, start_date=20190101, until_date=20211231, test_date=20210101, remove_region=rm_regions1, preprocess_root='data_folder/')\n",
    "            else:\n",
    "                print(rm_regions1_pickle, \"aleady in data_folder\")\n",
    "            file_list = os.listdir('data_folder')\n",
    "            if rm_regions2_pickle not in file_list:\n",
    "                RMMakeNIERDataset(reset_db=False, save_processed_data=False, run_pca=True, start_date=20190101, until_date=20211231, test_date=20210101, remove_region=rm_regions2, preprocess_root='data_folder/')\n",
    "            else:\n",
    "                print(rm_regions2_pickle, \"aleady in data_folder\")\n",
    "            file_list = os.listdir('data_folder')\n",
    "            if rm_regions3_pickle not in file_list:\n",
    "                RMMakeNIERDataset(reset_db=False, save_processed_data=False, run_pca=True, start_date=20190101, until_date=20211231, test_date=20210101, remove_region=rm_regions3, preprocess_root='data_folder/')\n",
    "            else:\n",
    "                print(rm_regions3_pickle, \"aleady in data_folder\")"
   ]
  },
  {
   "cell_type": "code",
   "execution_count": null,
   "metadata": {},
   "outputs": [],
   "source": [
    "import csv\n",
    "\n",
    "with open('data_folder/height_region_list.csv', 'r', encoding='utf-8') as f:\n",
    "    reader = csv.reader(f)\n",
    "    for i, line in enumerate(reader):\n",
    "        if i > 0 and i < 9:\n",
    "            line = list(line)\n",
    "            region_num = line[0]\n",
    "            print(region_num)\n",
    "            rm_groups = line[1].split(',')\n",
    "            rm_regions1 = line[2].split(',')\n",
    "            rm_regions2 = line[2].split(',')+line[3].split(',')\n",
    "            rm_regions3 = line[2].split(',')+line[3].split(',')+line[4].split(',')\n",
    "            rm_regions1.sort()\n",
    "            rm_regions2.sort()\n",
    "            rm_regions3.sort()\n",
    "            print(rm_regions1)"
   ]
  },
  {
   "cell_type": "code",
   "execution_count": null,
   "metadata": {},
   "outputs": [],
   "source": []
  },
  {
   "cell_type": "code",
   "execution_count": null,
   "metadata": {},
   "outputs": [],
   "source": []
  }
 ],
 "metadata": {
  "kernelspec": {
   "display_name": "dust",
   "language": "python",
   "name": "python3"
  },
  "language_info": {
   "codemirror_mode": {
    "name": "ipython",
    "version": 3
   },
   "file_extension": ".py",
   "mimetype": "text/x-python",
   "name": "python",
   "nbconvert_exporter": "python",
   "pygments_lexer": "ipython3",
   "version": "3.8.13"
  },
  "vscode": {
   "interpreter": {
    "hash": "9fca71497dee5836793b7ebf06d6d9f59e26b4c72fa15c96a9fb79daad4813a4"
   }
  }
 },
 "nbformat": 4,
 "nbformat_minor": 1
}
