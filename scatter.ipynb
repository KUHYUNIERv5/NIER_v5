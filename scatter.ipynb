{
 "cells": [
  {
   "cell_type": "code",
   "execution_count": null,
   "outputs": [],
   "source": [
    "import pandas as pd\n",
    "import numpy as np\n",
    "import seaborn as sns\n",
    "import matplotlib as mpl\n",
    "from matplotlib.offsetbox import AnchoredText\n",
    "import matplotlib.pyplot as plt\n",
    "\n",
    "from src.plotting import scatter_plotting\n",
    "\n",
    "region = 'R4_68'\n",
    "result_type = 2021\n",
    "result_dir = f'/workspace/local/results/v5_results/{region}_{result_type}inference.xlsx'\n",
    "cmaq_dir = f'./data_folder/cmaq{result_type}.csv'\n",
    "r4_result_dir = f'./data_folder/all_best_result_r4.xlsx'\n",
    "result_df = pd.read_excel(result_dir, index_col=0)\n",
    "cmaq_df = pd.read_csv(cmaq_dir, index_col=0)\n",
    "cmaq_df.rename(columns={'pm':'pm_type', 'region':'predict_region'}, inplace=True)\n",
    "r4_result_df = pd.read_excel(r4_result_dir, index_col=0)\n",
    "r4_result_df.rename(columns={'pm':'pm_type', 'region':'predict_region'}, inplace=True)"
   ],
   "metadata": {
    "collapsed": false,
    "pycharm": {
     "name": "#%%\n"
    }
   }
  },
  {
   "cell_type": "code",
   "execution_count": null,
   "outputs": [],
   "source": [
    "scatter_plotting(region, result_df, cmaq_df, r4_result_df, check_column='run_type')"
   ],
   "metadata": {
    "collapsed": false,
    "pycharm": {
     "name": "#%%\n"
    }
   }
  }
 ],
 "metadata": {
  "kernelspec": {
   "display_name": "Python 3",
   "language": "python",
   "name": "python3"
  },
  "language_info": {
   "codemirror_mode": {
    "name": "ipython",
    "version": 2
   },
   "file_extension": ".py",
   "mimetype": "text/x-python",
   "name": "python",
   "nbconvert_exporter": "python",
   "pygments_lexer": "ipython2",
   "version": "2.7.6"
  }
 },
 "nbformat": 4,
 "nbformat_minor": 0
}