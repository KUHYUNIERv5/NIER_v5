{
 "cells": [
  {
   "cell_type": "code",
   "execution_count": 1,
   "metadata": {
    "collapsed": false,
    "pycharm": {
     "name": "#%%\n"
    }
   },
   "outputs": [],
   "source": [
    "import pandas as pd\n",
    "import numpy as np\n",
    "import seaborn as sns\n",
    "import matplotlib as mpl\n",
    "from matplotlib.offsetbox import AnchoredText\n",
    "import matplotlib.pyplot as plt\n",
    "from src.plotting import scatter_plotting"
   ]
  },
  {
   "cell_type": "code",
   "execution_count": 9,
   "metadata": {},
   "outputs": [],
   "source": [
    "'''\n",
    "이미지 출력을 위한 region_list\n",
    "강원 영서, 충남의 경우 Infferece 결과가 2가지 (group 1, group 3)\n",
    "R4_63 : g3, g5\n",
    "R4_65 : g3, g5\n",
    "\n",
    "63,65 권역을 뽑을 때는 수동으로 g1,g3를 삭제하여 run\n",
    "'''\n",
    "region_list = [59,\n",
    "               60,\n",
    "               61,\n",
    "               62,\n",
    "               63,\n",
    "            #    '63_g3',\n",
    "               64,\n",
    "               65,\n",
    "            #    '65_g3',\n",
    "               66,\n",
    "               67,\n",
    "               68\n",
    "               ]\n",
    "horizon_list=[3, 4, 5, 6]\n",
    "start_year = 2021\n",
    "end_year=2022\n",
    "\n",
    "r4_result_dir = f'./data_folder/all_best_result_r4.xlsx'\n",
    "result_root_dir = f'/home/pink/dust/external_drive/dust_prediction_phase_2_multiGPU'"
   ]
  },
  {
   "cell_type": "code",
   "execution_count": null,
   "metadata": {},
   "outputs": [],
   "source": [
    "# 결과정보를 불러와서 권역별 Scatter plot 생성\n",
    "for num in region_list:\n",
    "    for pm_type in ['PM10', 'PM25']:\n",
    "        for horizon in horizon_list:\n",
    "            region = f\"R4_{num}\"\n",
    "\n",
    "            start_result_dir = f'{result_root_dir}/{region}/{region}_{start_year}inference.xlsx'\n",
    "            start_cmaq_dir = f'./data_folder/cmaq{start_year}.csv'\n",
    "            end_result_dir = f'{result_root_dir}/{region}/{region}_{end_year}inference.xlsx'\n",
    "            end_cmaq_dir = f'./data_folder/cmaq{start_year}.csv'\n",
    "                        \n",
    "            save_dir =  f'{result_root_dir}/Comparing_ScatterPlot/{region}'\n",
    "            \n",
    "            start_result_df = pd.read_excel(start_result_dir, index_col=0)\n",
    "            start_cmaq_df = pd.read_csv(start_cmaq_dir, index_col=0)\n",
    "\n",
    "            end_result_df = pd.read_excel(end_result_dir, index_col=0)\n",
    "            end_cmaq_df = pd.read_csv(end_cmaq_dir, index_col=0)\n",
    "            \n",
    "            start_cmaq_df.rename(columns={'pm':'pm_type', 'region':'predict_region'}, inplace=True)\n",
    "            end_cmaq_df.rename(columns={'pm':'pm_type', 'region':'predict_region'}, inplace=True)\n",
    "\n",
    "            r4_result_df = pd.read_excel(r4_result_dir, index_col=0)\n",
    "            r4_result_df.rename(columns={'pm':'pm_type', 'region':'predict_region'}, inplace=True)\n",
    "            # f1 socred으로 top_k % 설정 --> top_prob로 변경\n",
    "            top_models= scatter_plotting(region, start_result_df, start_cmaq_df, r4_result_df, pm=pm_type, horizon=horizon, check_column='run_type', year=start_year, save_dir=save_dir, top_prob=.2)\n",
    "            _ = scatter_plotting(region, end_result_df, end_cmaq_df, r4_result_df, pm=pm_type, horizon=horizon, check_column='run_type', year=end_year, save_dir=save_dir, top_models=top_models)\n",
    "                        "
   ]
  },
  {
   "cell_type": "code",
   "execution_count": 11,
   "metadata": {},
   "outputs": [],
   "source": [
    "from glob import glob\n",
    "from PIL import Image\n",
    "import matplotlib.pyplot as plt\n",
    "\n",
    "# 각 권역별 2021, 2022 Plot 이미지 병합\n",
    "for num in region_list:\n",
    "    for horizon in horizon_list:\n",
    "        for pm_type in ['PM10', 'PM25']:\n",
    "            region = f\"R4_{num}\"\n",
    "            save_dir =  f'{result_root_dir}/Comparing_ScatterPlot/{region}'\n",
    "            horizon_dir = f'{save_dir}/H{horizon}'\n",
    "\n",
    "            # image path\n",
    "            image_path_2021 = f'{horizon_dir}/{pm_type}_2021.png'\n",
    "            image_path_2022 = f'{horizon_dir}/{pm_type}_2022.png'\n",
    "            # load image\n",
    "            image_2021 = Image.open(image_path_2021)\n",
    "            image_2022 = Image.open(image_path_2022)\n",
    "\n",
    "            # Merge images together horizontally\n",
    "            merged_image = Image.new('RGB', (image_2021.width + image_2022.width, image_2021.height))\n",
    "            merged_image.paste(image_2021, (0, 0))\n",
    "            merged_image.paste(image_2022, (image_2021.width, 0))\n",
    "\n",
    "            # save image\n",
    "            merged_image.save(f'{horizon_dir}/{pm_type}_merged.png')\n",
    "            \n",
    "            # image show\n",
    "            # plt.imshow(merged_image)\n",
    "            # plt.axis('off')\n",
    "            # plt.show()\n",
    "            \n",
    "\n",
    "\n",
    "\n"
   ]
  },
  {
   "cell_type": "code",
   "execution_count": null,
   "metadata": {},
   "outputs": [],
   "source": []
  },
  {
   "cell_type": "code",
   "execution_count": null,
   "metadata": {},
   "outputs": [],
   "source": []
  },
  {
   "cell_type": "code",
   "execution_count": null,
   "metadata": {},
   "outputs": [],
   "source": []
  },
  {
   "cell_type": "code",
   "execution_count": null,
   "metadata": {},
   "outputs": [],
   "source": []
  },
  {
   "cell_type": "code",
   "execution_count": null,
   "metadata": {},
   "outputs": [],
   "source": []
  },
  {
   "cell_type": "code",
   "execution_count": null,
   "metadata": {},
   "outputs": [],
   "source": [
    "# region_list = [59,60,61,62,63,64,65,66,67,68]\n",
    "# for num in region_list:\n",
    "#     for year in [2021, 2022]:\n",
    "#         for pm_type in ['PM10', 'PM25']:\n",
    "#             region = f\"R4_{num}\"\n",
    "#             result_type = year\n",
    "#             pm = pm_type\n",
    "#             result_dir = f'/home/pink/dust/external_drive/dust_prediction_phase_2_multiGPU/{region}/{region}_{result_type}inference.xlsx'\n",
    "#             save_dir =  f'/home/pink/dust/external_drive/dust_prediction_phase_2_multiGPU/ScatterPlot/{region}/{region}_{result_type}'\n",
    "#             cmaq_dir = f'./data_folder/cmaq{result_type}.csv'\n",
    "#             r4_result_dir = f'./data_folder/all_best_result_r4.xlsx'\n",
    "#             result_df = pd.read_excel(result_dir, index_col=0)\n",
    "#             cmaq_df = pd.read_csv(cmaq_dir, index_col=0)\n",
    "#             cmaq_df.rename(columns={'pm':'pm_type', 'region':'predict_region'}, inplace=True)\n",
    "#             r4_result_df = pd.read_excel(r4_result_dir, index_col=0)\n",
    "#             r4_result_df.rename(columns={'pm':'pm_type', 'region':'predict_region'}, inplace=True)\n",
    "            \n",
    "            \n",
    "#             scatter_plotting(region, result_df, cmaq_df, r4_result_df, pm=pm, check_column='run_type', save_dir=save_dir)"
   ]
  },
  {
   "attachments": {},
   "cell_type": "markdown",
   "metadata": {},
   "source": [
    "## Concat per year"
   ]
  },
  {
   "cell_type": "code",
   "execution_count": 5,
   "metadata": {},
   "outputs": [],
   "source": [
    "import cv2\n",
    "from matplotlib import pyplot as plt\n"
   ]
  },
  {
   "cell_type": "code",
   "execution_count": 13,
   "metadata": {},
   "outputs": [],
   "source": [
    "\n",
    "\n",
    "region_list = [59,60,61,62,63,64,65,66,67,68]\n",
    "# region_list = [59]\n",
    "for num in region_list:\n",
    "    region = f\"R4_{num}\"\n",
    "    \n",
    "    imgs_2021_pm10 = []\n",
    "    imgs_2022_pm10 = []\n",
    "    imgs_2021_pm25 = []\n",
    "    imgs_2022_pm25 = []\n",
    "    \n",
    "    save_dir =  f'/home/pink/dust/external_drive/dust_prediction_phase_2_multiGPU/ScatterPlot/{region}/{region}_2021/'\n",
    "    PM10_h3_Img = cv2.imread(save_dir + '/H3' + '/PM10.png', cv2.IMREAD_COLOR)\n",
    "    PM25_h3_Img = cv2.imread(save_dir + '/H3' + '/PM25.png', cv2.IMREAD_COLOR)\n",
    "    \n",
    "    PM10_h4_Img = cv2.imread(save_dir + '/H4' + '/PM10.png', cv2.IMREAD_COLOR)\n",
    "    PM25_h4_Img = cv2.imread(save_dir + '/H4' + '/PM25.png', cv2.IMREAD_COLOR)\n",
    "    \n",
    "    PM10_h5_Img = cv2.imread(save_dir + '/H5' + '/PM10.png', cv2.IMREAD_COLOR)\n",
    "    PM25_h5_Img = cv2.imread(save_dir + '/H5' + '/PM25.png', cv2.IMREAD_COLOR)\n",
    "    \n",
    "    PM10_h6_Img = cv2.imread(save_dir + '/H6' + '/PM10.png', cv2.IMREAD_COLOR)\n",
    "    PM25_h6_Img = cv2.imread(save_dir + '/H6' + '/PM25.png', cv2.IMREAD_COLOR)\n",
    "        \n",
    "    imgs_2021_pm10.append([PM10_h3_Img, PM10_h4_Img, PM10_h5_Img, PM10_h6_Img])\n",
    "    imgs_2021_pm25.append([PM25_h3_Img, PM25_h4_Img, PM25_h5_Img, PM25_h6_Img])\n",
    "    \n",
    "    # for horizon in ['H3', 'H4', 'H5', 'H6']:\n",
    "    save_dir =  f'/home/pink/dust/external_drive/dust_prediction_phase_2_multiGPU/ScatterPlot/{region}/{region}_2022/'\n",
    "    PM10_h3_Img = cv2.imread(save_dir + '/H3' + '/PM10.png', cv2.IMREAD_COLOR)\n",
    "    PM25_h3_Img = cv2.imread(save_dir + '/H3' + '/PM25.png', cv2.IMREAD_COLOR)\n",
    "    \n",
    "    PM10_h4_Img = cv2.imread(save_dir + '/H4' + '/PM10.png', cv2.IMREAD_COLOR)\n",
    "    PM25_h4_Img = cv2.imread(save_dir + '/H4' + '/PM25.png', cv2.IMREAD_COLOR)\n",
    "    \n",
    "    PM10_h5_Img = cv2.imread(save_dir + '/H5' + '/PM10.png', cv2.IMREAD_COLOR)\n",
    "    PM25_h5_Img = cv2.imread(save_dir + '/H5' + '/PM25.png', cv2.IMREAD_COLOR)\n",
    "    \n",
    "    PM10_h6_Img = cv2.imread(save_dir + '/H6' + '/PM10.png', cv2.IMREAD_COLOR)\n",
    "    PM25_h6_Img = cv2.imread(save_dir + '/H6' + '/PM25.png', cv2.IMREAD_COLOR)\n",
    "        \n",
    "    imgs_2022_pm10.append([PM10_h3_Img, PM10_h4_Img, PM10_h5_Img, PM10_h6_Img])\n",
    "    imgs_2022_pm25.append([PM25_h3_Img, PM25_h4_Img, PM25_h5_Img, PM25_h6_Img])\n",
    "    \n",
    "    for i, (img_2021_pm10, img_2021_pm25, img_2022_pm10, img_2022_pm25) in enumerate(zip(imgs_2021_pm10, imgs_2021_pm25, imgs_2022_pm10, imgs_2022_pm25)):\n",
    "        pm10_2021 = cv2.hconcat(img_2021_pm10)\n",
    "        pm10_2022 = cv2.hconcat(img_2022_pm10)\n",
    "        pm10 = cv2.vconcat([pm10_2021, pm10_2022])\n",
    "        save_dir =  f'/home/pink/dust/external_drive/dust_prediction_phase_2_multiGPU/ScatterPlot/{region}/PM10_img.png'\n",
    "        cv2.imwrite(save_dir, pm10)\n",
    "                \n",
    "        pm25_2021 = cv2.hconcat(img_2021_pm25)\n",
    "        pm25_2022 = cv2.hconcat(img_2022_pm25)\n",
    "        pm25 = cv2.vconcat([pm25_2021, pm25_2022])\n",
    "        save_dir =  f'/home/pink/dust/external_drive/dust_prediction_phase_2_multiGPU/ScatterPlot/{region}/PM25_img.png'\n",
    "        cv2.imwrite(save_dir, pm25)\n",
    "        \n",
    "        # pm10_2022 = cv2.hconcat(img_2022_pm10)\n",
    "        # save_dir =  f'/home/pink/dust/external_drive/dust_prediction_phase_2_multiGPU/ScatterPlot/{region}/PM10_img.png'\n",
    "        # cv2.imwrite(save_dir, pm10_2022)\n",
    "                \n",
    "        # pm25_2022 = cv2.hconcat(img_2022_pm25)\n",
    "        # save_dir =  f'/home/pink/dust/external_drive/dust_prediction_phase_2_multiGPU/ScatterPlot/{region}/PM25_img.png'\n",
    "        # cv2.imwrite(save_dir, pm25_2022)\n",
    "        \n",
    "        # plt.imshow(concatedImg)\n",
    "        # plt.title('my picture')\n",
    "        # plt.show()\n",
    "\n"
   ]
  },
  {
   "cell_type": "code",
   "execution_count": null,
   "metadata": {},
   "outputs": [],
   "source": []
  }
 ],
 "metadata": {
  "kernelspec": {
   "display_name": "dust",
   "language": "python",
   "name": "python3"
  },
  "language_info": {
   "codemirror_mode": {
    "name": "ipython",
    "version": 3
   },
   "file_extension": ".py",
   "mimetype": "text/x-python",
   "name": "python",
   "nbconvert_exporter": "python",
   "pygments_lexer": "ipython3",
   "version": "3.8.13"
  },
  "vscode": {
   "interpreter": {
    "hash": "9fca71497dee5836793b7ebf06d6d9f59e26b4c72fa15c96a9fb79daad4813a4"
   }
  }
 },
 "nbformat": 4,
 "nbformat_minor": 0
}
